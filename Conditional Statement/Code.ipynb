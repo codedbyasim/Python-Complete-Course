{
 "cells": [
  {
   "cell_type": "code",
   "execution_count": 2,
   "id": "4db2b26e-592b-4bc0-9c07-6d07b3fad83e",
   "metadata": {},
   "outputs": [],
   "source": [
    "age = 10\n",
    "if age >= 18:\n",
    "    print(\"You are eligible for vote\")"
   ]
  },
  {
   "cell_type": "code",
   "execution_count": null,
   "id": "d413241a-d7bf-4391-9dd4-24913de57e89",
   "metadata": {},
   "outputs": [],
   "source": []
  },
  {
   "cell_type": "markdown",
   "id": "22b42ba7-8c5c-4887-90ea-ecb88de66254",
   "metadata": {},
   "source": [
    "# if Else Statement"
   ]
  },
  {
   "cell_type": "code",
   "execution_count": 5,
   "id": "e19cc5e5-9f27-4bc4-8365-5b29ed56177f",
   "metadata": {},
   "outputs": [
    {
     "name": "stdin",
     "output_type": "stream",
     "text": [
      "Enter your age: 12\n"
     ]
    },
    {
     "name": "stdout",
     "output_type": "stream",
     "text": [
      "Your are not Eligible for vote\n"
     ]
    }
   ],
   "source": [
    "age = int(input(\"Enter your age:\"))\n",
    "if age>=18:\n",
    "    print(\"You are eligible for vote\")\n",
    "else:\n",
    "    print(\"Your are not Eligible for vote\")"
   ]
  },
  {
   "cell_type": "markdown",
   "id": "b75e5921-5df4-4cd3-b49b-ae2b284f9540",
   "metadata": {},
   "source": [
    "# if-Elif-Else Statement"
   ]
  },
  {
   "cell_type": "code",
   "execution_count": 8,
   "id": "729d2490-d96c-4086-ac44-0128e3eee60b",
   "metadata": {},
   "outputs": [
    {
     "name": "stdin",
     "output_type": "stream",
     "text": [
      "Enter Your Marks: 92\n"
     ]
    },
    {
     "name": "stdout",
     "output_type": "stream",
     "text": [
      "Grade A\n"
     ]
    }
   ],
   "source": [
    "marks = int(input(\"Enter Your Marks:\"))\n",
    "if marks>=90:\n",
    "    print(\"Grade A\")\n",
    "elif marks>=80:\n",
    "    print(\"Grade B\")\n",
    "elif marks>=70:\n",
    "    print(\"Grade C\")\n",
    "else:\n",
    "    print(\"Fail\")"
   ]
  },
  {
   "cell_type": "markdown",
   "id": "703b626e-bfb8-4faf-98b2-6e96cfdba41f",
   "metadata": {},
   "source": [
    "# Nested if"
   ]
  },
  {
   "cell_type": "code",
   "execution_count": 9,
   "id": "797ad699-b962-4768-8195-a0cf1036212c",
   "metadata": {},
   "outputs": [
    {
     "name": "stdout",
     "output_type": "stream",
     "text": [
      "x is between 2 and 10\n"
     ]
    }
   ],
   "source": [
    "x = 5 \n",
    "if x>4:\n",
    "    if x<15:\n",
    "        print(\"x is between 2 and 10\")"
   ]
  },
  {
   "cell_type": "code",
   "execution_count": null,
   "id": "7cce5269-f1e2-4e91-bced-5bdd39aa56dc",
   "metadata": {},
   "outputs": [],
   "source": []
  }
 ],
 "metadata": {
  "kernelspec": {
   "display_name": "Python 3 (ipykernel)",
   "language": "python",
   "name": "python3"
  },
  "language_info": {
   "codemirror_mode": {
    "name": "ipython",
    "version": 3
   },
   "file_extension": ".py",
   "mimetype": "text/x-python",
   "name": "python",
   "nbconvert_exporter": "python",
   "pygments_lexer": "ipython3",
   "version": "3.13.5"
  }
 },
 "nbformat": 4,
 "nbformat_minor": 5
}
