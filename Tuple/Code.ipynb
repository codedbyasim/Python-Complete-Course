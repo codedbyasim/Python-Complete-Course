{
 "cells": [
  {
   "cell_type": "code",
   "execution_count": null,
   "id": "ef1ab037-1432-45e9-b0ee-0b3ae74746c5",
   "metadata": {},
   "outputs": [],
   "source": [
    "student = (1,\"Asim\",25.0)"
   ]
  },
  {
   "cell_type": "code",
   "execution_count": 4,
   "id": "267c0e3e-7a74-4635-9f3e-80c2171474e5",
   "metadata": {},
   "outputs": [],
   "source": [
    "my_tuple=(10,10,20,30,40)"
   ]
  },
  {
   "cell_type": "code",
   "execution_count": 5,
   "id": "8bb55bf8-9c7e-4a9c-8ea8-5e5d84ae4815",
   "metadata": {},
   "outputs": [
    {
     "name": "stdout",
     "output_type": "stream",
     "text": [
      "10\n"
     ]
    }
   ],
   "source": [
    "print(my_tuple[1])"
   ]
  },
  {
   "cell_type": "code",
   "execution_count": 7,
   "id": "a19914db-4260-43b7-a941-ab7854d9efa1",
   "metadata": {},
   "outputs": [
    {
     "name": "stdout",
     "output_type": "stream",
     "text": [
      "5\n"
     ]
    }
   ],
   "source": [
    "print(len(my_tuple))"
   ]
  },
  {
   "cell_type": "code",
   "execution_count": 9,
   "id": "84859e67-d4f4-40de-aa01-02a4d8a0fd5b",
   "metadata": {},
   "outputs": [
    {
     "name": "stdout",
     "output_type": "stream",
     "text": [
      "1\n"
     ]
    }
   ],
   "source": [
    "print(my_tuple.count(20))"
   ]
  },
  {
   "cell_type": "code",
   "execution_count": 12,
   "id": "e889678d-6ba5-453a-8c8a-741dbc493967",
   "metadata": {},
   "outputs": [
    {
     "name": "stdout",
     "output_type": "stream",
     "text": [
      "4\n"
     ]
    }
   ],
   "source": [
    "print(my_tuple.index(40))"
   ]
  },
  {
   "cell_type": "code",
   "execution_count": null,
   "id": "c3da1c45-bbc5-48d8-bdde-c4a6adc24971",
   "metadata": {},
   "outputs": [],
   "source": []
  }
 ],
 "metadata": {
  "kernelspec": {
   "display_name": "Python 3 (ipykernel)",
   "language": "python",
   "name": "python3"
  },
  "language_info": {
   "codemirror_mode": {
    "name": "ipython",
    "version": 3
   },
   "file_extension": ".py",
   "mimetype": "text/x-python",
   "name": "python",
   "nbconvert_exporter": "python",
   "pygments_lexer": "ipython3",
   "version": "3.12.9"
  }
 },
 "nbformat": 4,
 "nbformat_minor": 5
}
