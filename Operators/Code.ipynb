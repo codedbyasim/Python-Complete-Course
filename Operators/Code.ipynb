{
 "cells": [
  {
   "cell_type": "code",
   "execution_count": 1,
   "id": "09f1f34e-23ca-4ffc-8f44-40264fd00256",
   "metadata": {},
   "outputs": [
    {
     "name": "stdout",
     "output_type": "stream",
     "text": [
      "8\n"
     ]
    }
   ],
   "source": [
    "# Addition\n",
    "a=5\n",
    "b=3\n",
    "c=a+b\n",
    "print(c)"
   ]
  },
  {
   "cell_type": "code",
   "execution_count": 3,
   "id": "da046676-bb76-4343-9ed0-c5bd105bbc8c",
   "metadata": {},
   "outputs": [
    {
     "name": "stdin",
     "output_type": "stream",
     "text": [
      "Enter A: 2\n",
      "Enter B: 7\n"
     ]
    },
    {
     "name": "stdout",
     "output_type": "stream",
     "text": [
      "Result:  9\n"
     ]
    }
   ],
   "source": [
    "a=int(input(\"Enter A:\"))\n",
    "b=int(input(\"Enter B:\"))\n",
    "c=a+b\n",
    "print(\"Result: \",c)"
   ]
  },
  {
   "cell_type": "code",
   "execution_count": 4,
   "id": "72c0bb42-09f2-403b-aa5c-82b24a2217dc",
   "metadata": {},
   "outputs": [
    {
     "name": "stdin",
     "output_type": "stream",
     "text": [
      "Enter A: 5\n",
      "Enter B: 4\n"
     ]
    },
    {
     "name": "stdout",
     "output_type": "stream",
     "text": [
      "Result:  1\n"
     ]
    }
   ],
   "source": [
    "# Subtraction\n",
    "a=int(input(\"Enter A:\"))\n",
    "b=int(input(\"Enter B:\"))\n",
    "c=a-b\n",
    "print(\"Result: \",c)"
   ]
  },
  {
   "cell_type": "code",
   "execution_count": 5,
   "id": "5ef3cd6b-b3dd-4f90-884c-f10f9776cb7d",
   "metadata": {},
   "outputs": [
    {
     "name": "stdin",
     "output_type": "stream",
     "text": [
      "Enter A: 4\n",
      "Enter B: 4\n"
     ]
    },
    {
     "name": "stdout",
     "output_type": "stream",
     "text": [
      "Result:  16\n"
     ]
    }
   ],
   "source": [
    "# Mutliplication\n",
    "a=int(input(\"Enter A:\"))\n",
    "b=int(input(\"Enter B:\"))\n",
    "c=a*b\n",
    "print(\"Result: \",c)"
   ]
  },
  {
   "cell_type": "code",
   "execution_count": 6,
   "id": "90561fd7-abeb-4c9c-a91c-259fae051f49",
   "metadata": {},
   "outputs": [
    {
     "name": "stdin",
     "output_type": "stream",
     "text": [
      "Enter A: 10\n",
      "Enter B: 2\n"
     ]
    },
    {
     "name": "stdout",
     "output_type": "stream",
     "text": [
      "Result:  5.0\n"
     ]
    }
   ],
   "source": [
    "# Division\n",
    "a=int(input(\"Enter A:\"))\n",
    "b=int(input(\"Enter B:\"))\n",
    "c=a/b\n",
    "print(\"Result: \",c)"
   ]
  },
  {
   "cell_type": "code",
   "execution_count": 8,
   "id": "4578dedc-b1e1-4bae-801c-cd01d8506bda",
   "metadata": {},
   "outputs": [
    {
     "name": "stdin",
     "output_type": "stream",
     "text": [
      "Enter A: 9\n",
      "Enter B: 2\n"
     ]
    },
    {
     "name": "stdout",
     "output_type": "stream",
     "text": [
      "Result:  4\n"
     ]
    }
   ],
   "source": [
    "# Floor Division\n",
    "a=int(input(\"Enter A:\"))\n",
    "b=int(input(\"Enter B:\"))\n",
    "c=a//b # 9//2\n",
    "print(\"Result: \",c)"
   ]
  },
  {
   "cell_type": "code",
   "execution_count": 9,
   "id": "1ea18b57-7c8b-4d88-826f-4aae9ede29e1",
   "metadata": {},
   "outputs": [
    {
     "name": "stdin",
     "output_type": "stream",
     "text": [
      "Enter A: 5\n",
      "Enter B: 2\n"
     ]
    },
    {
     "name": "stdout",
     "output_type": "stream",
     "text": [
      "Result:  1\n"
     ]
    }
   ],
   "source": [
    "# Modulus\n",
    "a=int(input(\"Enter A:\"))\n",
    "b=int(input(\"Enter B:\"))\n",
    "c=a%b\n",
    "print(\"Result: \",c)"
   ]
  },
  {
   "cell_type": "code",
   "execution_count": 11,
   "id": "31a3c8b3-edda-4afe-8e64-cb6773dc2514",
   "metadata": {},
   "outputs": [
    {
     "name": "stdin",
     "output_type": "stream",
     "text": [
      "Enter A: 5\n",
      "Enter B: 20\n"
     ]
    },
    {
     "name": "stdout",
     "output_type": "stream",
     "text": [
      "Result:  95367431640625\n"
     ]
    }
   ],
   "source": [
    "# Exponentional\n",
    "a=int(input(\"Enter A:\"))\n",
    "b=int(input(\"Enter B:\"))\n",
    "c=a**b\n",
    "print(\"Result: \",c)"
   ]
  },
  {
   "cell_type": "markdown",
   "id": "4405d86a-80ff-408b-8e63-1bc19d7d51c7",
   "metadata": {},
   "source": [
    "# Comparison Operator"
   ]
  },
  {
   "cell_type": "code",
   "execution_count": 13,
   "id": "2b3098ae-0909-4891-b4ee-a7f2c6fc85be",
   "metadata": {},
   "outputs": [
    {
     "name": "stdin",
     "output_type": "stream",
     "text": [
      "Enter A: 7\n",
      "Enter B: 2\n"
     ]
    },
    {
     "name": "stdout",
     "output_type": "stream",
     "text": [
      "False\n"
     ]
    }
   ],
   "source": [
    "# Equal to\n",
    "a=int(input(\"Enter A:\"))\n",
    "b=int(input(\"Enter B:\"))\n",
    "print(a==b)"
   ]
  },
  {
   "cell_type": "code",
   "execution_count": 15,
   "id": "b2869c34-deaa-45f4-854c-f14fd8fc9570",
   "metadata": {},
   "outputs": [
    {
     "name": "stdin",
     "output_type": "stream",
     "text": [
      "Enter A: 5\n",
      "Enter B: 5\n"
     ]
    },
    {
     "name": "stdout",
     "output_type": "stream",
     "text": [
      "False\n"
     ]
    }
   ],
   "source": [
    "# Not Equal to\n",
    "a=int(input(\"Enter A:\"))\n",
    "b=int(input(\"Enter B:\"))\n",
    "print(a!=b)"
   ]
  },
  {
   "cell_type": "code",
   "execution_count": 17,
   "id": "dfe3a2b3-001b-4711-9568-6db749cbb527",
   "metadata": {},
   "outputs": [
    {
     "name": "stdin",
     "output_type": "stream",
     "text": [
      "Enter A: 5\n",
      "Enter B: 4\n"
     ]
    },
    {
     "name": "stdout",
     "output_type": "stream",
     "text": [
      "False\n"
     ]
    }
   ],
   "source": [
    "# Less Than \n",
    "a=int(input(\"Enter A:\"))\n",
    "b=int(input(\"Enter B:\"))\n",
    "print(a<b)"
   ]
  },
  {
   "cell_type": "code",
   "execution_count": 19,
   "id": "f82ce820-bffb-4f4c-a10d-dc98a0a81553",
   "metadata": {},
   "outputs": [
    {
     "name": "stdin",
     "output_type": "stream",
     "text": [
      "Enter A: 4\n",
      "Enter B: 5\n"
     ]
    },
    {
     "name": "stdout",
     "output_type": "stream",
     "text": [
      "False\n"
     ]
    }
   ],
   "source": [
    "# Greater Than\n",
    "a=int(input(\"Enter A:\"))\n",
    "b=int(input(\"Enter B:\"))\n",
    "print(a>b)"
   ]
  },
  {
   "cell_type": "code",
   "execution_count": 22,
   "id": "aff0f258-1110-4c25-a11e-eedfca1f8680",
   "metadata": {},
   "outputs": [
    {
     "name": "stdin",
     "output_type": "stream",
     "text": [
      "Enter A: 3\n",
      "Enter B: 5\n"
     ]
    },
    {
     "name": "stdout",
     "output_type": "stream",
     "text": [
      "False\n"
     ]
    }
   ],
   "source": [
    "# Greater Than and Equal to\n",
    "a=int(input(\"Enter A:\"))\n",
    "b=int(input(\"Enter B:\"))\n",
    "print(a>=b)"
   ]
  },
  {
   "cell_type": "code",
   "execution_count": 24,
   "id": "ac3c514c-3f92-4adc-a419-45dc95dd8c8a",
   "metadata": {},
   "outputs": [
    {
     "name": "stdin",
     "output_type": "stream",
     "text": [
      "Enter A: 3\n",
      "Enter B: 3\n"
     ]
    },
    {
     "name": "stdout",
     "output_type": "stream",
     "text": [
      "True\n"
     ]
    }
   ],
   "source": [
    "# Less Than and Equal to\n",
    "a=int(input(\"Enter A:\"))\n",
    "b=int(input(\"Enter B:\"))\n",
    "print(a<=b)"
   ]
  },
  {
   "cell_type": "markdown",
   "id": "61837a64-1a8e-4896-b7a5-920ce675cb36",
   "metadata": {},
   "source": [
    "# Logical Operator"
   ]
  },
  {
   "cell_type": "code",
   "execution_count": 26,
   "id": "a932ad6c-890d-4074-8ee4-fd34e2155dfe",
   "metadata": {},
   "outputs": [
    {
     "name": "stdin",
     "output_type": "stream",
     "text": [
      "Enter A: 5\n",
      "Enter B: 6\n"
     ]
    },
    {
     "name": "stdout",
     "output_type": "stream",
     "text": [
      "True\n"
     ]
    }
   ],
   "source": [
    "# And Operator\n",
    "a=int(input(\"Enter A:\"))\n",
    "b=int(input(\"Enter B:\"))\n",
    "print(a>3 and b<7) # 2>3 and 5<7 --> 0 and 1 = 0"
   ]
  },
  {
   "cell_type": "code",
   "execution_count": 27,
   "id": "94495be8-7a25-4485-97f4-aa6b0b01085b",
   "metadata": {},
   "outputs": [
    {
     "name": "stdin",
     "output_type": "stream",
     "text": [
      "Enter A: 2\n",
      "Enter B: 6\n"
     ]
    },
    {
     "name": "stdout",
     "output_type": "stream",
     "text": [
      "True\n"
     ]
    }
   ],
   "source": [
    "# OR Operator\n",
    "a=int(input(\"Enter A:\"))\n",
    "b=int(input(\"Enter B:\"))\n",
    "print(a>3 or b<7) # 2>3 or 6<7 --> 0 or 1 = 1"
   ]
  },
  {
   "cell_type": "code",
   "execution_count": 28,
   "id": "20a844f3-f017-4dc7-a198-090f05465ed5",
   "metadata": {},
   "outputs": [
    {
     "name": "stdin",
     "output_type": "stream",
     "text": [
      "Enter A 5\n"
     ]
    },
    {
     "name": "stdout",
     "output_type": "stream",
     "text": [
      "False\n"
     ]
    }
   ],
   "source": [
    "# Not Operator\n",
    "a=int(input(\"Enter A\"))\n",
    "print(not a>3) # 5>3"
   ]
  },
  {
   "cell_type": "code",
   "execution_count": null,
   "id": "6636cc28-239e-470c-9a28-ca13e6992edd",
   "metadata": {},
   "outputs": [],
   "source": []
  }
 ],
 "metadata": {
  "kernelspec": {
   "display_name": "Python 3 (ipykernel)",
   "language": "python",
   "name": "python3"
  },
  "language_info": {
   "codemirror_mode": {
    "name": "ipython",
    "version": 3
   },
   "file_extension": ".py",
   "mimetype": "text/x-python",
   "name": "python",
   "nbconvert_exporter": "python",
   "pygments_lexer": "ipython3",
   "version": "3.13.5"
  }
 },
 "nbformat": 4,
 "nbformat_minor": 5
}
