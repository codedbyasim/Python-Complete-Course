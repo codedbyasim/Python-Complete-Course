{
 "cells": [
  {
   "cell_type": "code",
   "execution_count": 3,
   "id": "551d10f0-7123-4658-b57e-03a098563fa0",
   "metadata": {},
   "outputs": [
    {
     "name": "stdout",
     "output_type": "stream",
     "text": [
      "Asim\n",
      "Asim\n",
      "Asim\n",
      "Asim\n",
      "Asim\n",
      "Asim\n",
      "Asim\n",
      "Asim\n",
      "Asim\n",
      "Asim\n"
     ]
    }
   ],
   "source": [
    "print(\"Asim\")\n",
    "print(\"Asim\")\n",
    "print(\"Asim\")\n",
    "print(\"Asim\")\n",
    "print(\"Asim\")\n",
    "print(\"Asim\")\n",
    "print(\"Asim\")\n",
    "print(\"Asim\")\n",
    "print(\"Asim\")\n",
    "print(\"Asim\")"
   ]
  },
  {
   "cell_type": "code",
   "execution_count": 4,
   "id": "287538eb-ccff-46b6-9afb-50b42111e1ab",
   "metadata": {},
   "outputs": [
    {
     "name": "stdout",
     "output_type": "stream",
     "text": [
      "Asim\n",
      "Asim\n",
      "Asim\n",
      "Asim\n",
      "Asim\n",
      "Asim\n",
      "Asim\n",
      "Asim\n",
      "Asim\n",
      "Asim\n"
     ]
    }
   ],
   "source": [
    "i=1\n",
    "while i<=10:\n",
    "    print(\"Asim\")\n",
    "    i+=1 # i=i+1"
   ]
  },
  {
   "cell_type": "code",
   "execution_count": 8,
   "id": "6e7a971c-64ad-470c-a932-524466ec2307",
   "metadata": {},
   "outputs": [
    {
     "name": "stdout",
     "output_type": "stream",
     "text": [
      "1\n",
      "2\n",
      "3\n",
      "4\n",
      "5\n"
     ]
    }
   ],
   "source": [
    "i=1\n",
    "while i<=5:\n",
    "    print(i)\n",
    "    i+=1"
   ]
  },
  {
   "cell_type": "markdown",
   "id": "e7ba6aa0-a8b0-4377-81cf-450177d0ad6f",
   "metadata": {},
   "source": [
    "# For Loop"
   ]
  },
  {
   "cell_type": "code",
   "execution_count": 11,
   "id": "31f6846c-3918-4db6-80e3-a362d2cc657d",
   "metadata": {},
   "outputs": [
    {
     "name": "stdout",
     "output_type": "stream",
     "text": [
      "1\n",
      "3\n",
      "5\n"
     ]
    }
   ],
   "source": [
    "for i in range(1,6,2):\n",
    "    print(i)"
   ]
  },
  {
   "cell_type": "code",
   "execution_count": null,
   "id": "41a040e0-3c85-4c36-8832-d8d138222cd0",
   "metadata": {},
   "outputs": [],
   "source": []
  }
 ],
 "metadata": {
  "kernelspec": {
   "display_name": "Python 3 (ipykernel)",
   "language": "python",
   "name": "python3"
  },
  "language_info": {
   "codemirror_mode": {
    "name": "ipython",
    "version": 3
   },
   "file_extension": ".py",
   "mimetype": "text/x-python",
   "name": "python",
   "nbconvert_exporter": "python",
   "pygments_lexer": "ipython3",
   "version": "3.13.5"
  }
 },
 "nbformat": 4,
 "nbformat_minor": 5
}
