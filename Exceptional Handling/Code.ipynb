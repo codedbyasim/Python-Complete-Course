{
 "cells": [
  {
   "cell_type": "code",
   "execution_count": null,
   "id": "cd3828e3-93e8-45c7-901a-6d1c6ff16101",
   "metadata": {},
   "outputs": [],
   "source": [
    "# Basic Syntax of Exception Handling:\n",
    "try:\n",
    "    # Code that may cause an error\n",
    "except:\n",
    "    # Code to run if there is an error\n"
   ]
  },
  {
   "cell_type": "code",
   "execution_count": 4,
   "id": "f47492c6-00cb-44b8-8c71-6326ac8e6dae",
   "metadata": {},
   "outputs": [
    {
     "name": "stdin",
     "output_type": "stream",
     "text": [
      "Enter a number:  0\n"
     ]
    },
    {
     "name": "stdout",
     "output_type": "stream",
     "text": [
      "Something went wrong!\n"
     ]
    }
   ],
   "source": [
    "# Example:\n",
    "try:\n",
    "    x = int(input(\"Enter a number: \"))\n",
    "    y = 10 / x\n",
    "    print(\"Result:\", y)\n",
    "except:\n",
    "    print(\"Something went wrong!\")\n"
   ]
  },
  {
   "cell_type": "code",
   "execution_count": 5,
   "id": "9b195e88-6f98-458a-8a31-6a2f34bfa25e",
   "metadata": {},
   "outputs": [
    {
     "ename": "ValueError",
     "evalue": "Negative value not allowed",
     "output_type": "error",
     "traceback": [
      "\u001b[31m---------------------------------------------------------------------------\u001b[39m",
      "\u001b[31mValueError\u001b[39m                                Traceback (most recent call last)",
      "\u001b[36mCell\u001b[39m\u001b[36m \u001b[39m\u001b[32mIn[5]\u001b[39m\u001b[32m, line 3\u001b[39m\n\u001b[32m      1\u001b[39m x = -\u001b[32m5\u001b[39m\n\u001b[32m      2\u001b[39m \u001b[38;5;28;01mif\u001b[39;00m x < \u001b[32m0\u001b[39m:\n\u001b[32m----> \u001b[39m\u001b[32m3\u001b[39m     \u001b[38;5;28;01mraise\u001b[39;00m \u001b[38;5;167;01mValueError\u001b[39;00m(\u001b[33m\"\u001b[39m\u001b[33mNegative value not allowed\u001b[39m\u001b[33m\"\u001b[39m)\n",
      "\u001b[31mValueError\u001b[39m: Negative value not allowed"
     ]
    }
   ],
   "source": [
    "x = -5\n",
    "if x < 0:\n",
    "    raise ValueError(\"Negative value not allowed\")"
   ]
  },
  {
   "cell_type": "code",
   "execution_count": null,
   "id": "7855517a-84cc-425e-a7d4-f2b15e68c187",
   "metadata": {},
   "outputs": [],
   "source": []
  }
 ],
 "metadata": {
  "kernelspec": {
   "display_name": "Python 3 (ipykernel)",
   "language": "python",
   "name": "python3"
  },
  "language_info": {
   "codemirror_mode": {
    "name": "ipython",
    "version": 3
   },
   "file_extension": ".py",
   "mimetype": "text/x-python",
   "name": "python",
   "nbconvert_exporter": "python",
   "pygments_lexer": "ipython3",
   "version": "3.12.9"
  }
 },
 "nbformat": 4,
 "nbformat_minor": 5
}
