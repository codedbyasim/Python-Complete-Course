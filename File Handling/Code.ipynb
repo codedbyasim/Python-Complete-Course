{
 "cells": [
  {
   "cell_type": "code",
   "execution_count": null,
   "id": "bef8ac10-5a04-46e1-8062-9e6e4b3bea95",
   "metadata": {},
   "outputs": [],
   "source": [
    "# Opening a File\n",
    "file = open(\"file.txt\", \"r\")  # Open for reading"
   ]
  },
  {
   "cell_type": "code",
   "execution_count": null,
   "id": "c7ab549c-612e-4191-bfe2-d09c87f0aa38",
   "metadata": {},
   "outputs": [],
   "source": [
    "# Reading from a File\n",
    "file = open(\"file.txt\", \"r\")\n",
    "content = file.read()\n",
    "print(content)\n",
    "file.close()"
   ]
  },
  {
   "cell_type": "code",
   "execution_count": null,
   "id": "e75eec89-24bd-49a5-9dd3-de3a3adc5aeb",
   "metadata": {},
   "outputs": [],
   "source": [
    "#  Writing to a File\n",
    "file = open(\"file.txt\", \"w\")\n",
    "file.write(\"This is a new file.\")\n",
    "file.close()"
   ]
  },
  {
   "cell_type": "code",
   "execution_count": null,
   "id": "ddccd18a-4404-4a66-b63e-d5ab5a8e6f6e",
   "metadata": {},
   "outputs": [],
   "source": [
    "# Appending to a File\n",
    "file = open(\"file.txt\", \"a\")\n",
    "file.write(\"This is added content.\")\n",
    "file.close()"
   ]
  },
  {
   "cell_type": "code",
   "execution_count": null,
   "id": "6fda84d2-e1c2-4ba0-9fda-59a041db8d34",
   "metadata": {},
   "outputs": [],
   "source": [
    "# Using with Statement (Best Practice)\n",
    "with open(\"file.txt\", \"r\") as file:\n",
    "    content = file.read()\n",
    "    print(content)\n",
    "# File is auto-closed here"
   ]
  }
 ],
 "metadata": {
  "kernelspec": {
   "display_name": "Python 3 (ipykernel)",
   "language": "python",
   "name": "python3"
  },
  "language_info": {
   "codemirror_mode": {
    "name": "ipython",
    "version": 3
   },
   "file_extension": ".py",
   "mimetype": "text/x-python",
   "name": "python",
   "nbconvert_exporter": "python",
   "pygments_lexer": "ipython3",
   "version": "3.12.9"
  }
 },
 "nbformat": 4,
 "nbformat_minor": 5
}
