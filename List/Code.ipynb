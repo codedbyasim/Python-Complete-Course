{
 "cells": [
  {
   "cell_type": "code",
   "execution_count": null,
   "id": "b78ef603-0175-4448-a513-285ce91687ae",
   "metadata": {},
   "outputs": [],
   "source": [
    "name1 = \"Ahmed\"\n",
    "name2 = \"Fahad\"\n",
    "name3 = \"Rehan\""
   ]
  },
  {
   "cell_type": "code",
   "execution_count": 6,
   "id": "bc9209e2-ac91-4015-8281-c09d60b14989",
   "metadata": {},
   "outputs": [
    {
     "name": "stdout",
     "output_type": "stream",
     "text": [
      "['Ahmed', 'Fahad', 'Rehan', 'Rehan']\n"
     ]
    }
   ],
   "source": [
    "friend_list = [\"Ahmed\",\"Fahad\", \"Rehan\",\"Rehan\"]\n",
    "print(friend_list)"
   ]
  },
  {
   "cell_type": "code",
   "execution_count": 7,
   "id": "2d87824a-48ab-48b5-8ad6-4fc402cb9d43",
   "metadata": {},
   "outputs": [
    {
     "name": "stdout",
     "output_type": "stream",
     "text": [
      "[1, 'Asim', True]\n"
     ]
    }
   ],
   "source": [
    "mixed = [1,\"Asim\",True]\n",
    "print(mixed)"
   ]
  },
  {
   "cell_type": "code",
   "execution_count": 11,
   "id": "b79bb06b-4054-439b-b924-6fb3200e0d7d",
   "metadata": {},
   "outputs": [
    {
     "name": "stdout",
     "output_type": "stream",
     "text": [
      "[10, 20, 30, 40]\n"
     ]
    }
   ],
   "source": [
    "list1=[10,20,30,40]\n",
    "print(list1)"
   ]
  },
  {
   "cell_type": "code",
   "execution_count": 12,
   "id": "94ec3223-f61f-43b2-b582-54e2bce84262",
   "metadata": {},
   "outputs": [
    {
     "name": "stdout",
     "output_type": "stream",
     "text": [
      "[10, 20, 30, 40, 50]\n"
     ]
    }
   ],
   "source": [
    "list1.append(50)\n",
    "print(list1)"
   ]
  },
  {
   "cell_type": "code",
   "execution_count": 13,
   "id": "ade54cd8-c018-4b3a-aaff-88f572f4209b",
   "metadata": {},
   "outputs": [
    {
     "name": "stdout",
     "output_type": "stream",
     "text": [
      "[10, 20, 15, 30, 40, 50]\n"
     ]
    }
   ],
   "source": [
    "list1.insert(2,15)\n",
    "print(list1)"
   ]
  },
  {
   "cell_type": "code",
   "execution_count": 14,
   "id": "4f24e217-32f8-4824-8919-63693ae6dce2",
   "metadata": {},
   "outputs": [
    {
     "name": "stdout",
     "output_type": "stream",
     "text": [
      "[10, 20, 15, 40, 50]\n"
     ]
    }
   ],
   "source": [
    "list1.remove(30)\n",
    "print(list1)"
   ]
  },
  {
   "cell_type": "code",
   "execution_count": 15,
   "id": "a356394c-e6fb-4b6d-8348-1ed31a0dc3df",
   "metadata": {},
   "outputs": [
    {
     "name": "stdout",
     "output_type": "stream",
     "text": [
      "[10, 20, 15, 40]\n"
     ]
    }
   ],
   "source": [
    "list1.pop()\n",
    "print(list1)"
   ]
  },
  {
   "cell_type": "code",
   "execution_count": 16,
   "id": "3894a593-185d-4907-8ac3-841c690164fc",
   "metadata": {},
   "outputs": [],
   "source": [
    "list2=[5,3,2,4,1]\n",
    "list2.sort()"
   ]
  },
  {
   "cell_type": "code",
   "execution_count": 17,
   "id": "66a23a3c-6720-437a-8b07-7a9472d843fe",
   "metadata": {},
   "outputs": [
    {
     "name": "stdout",
     "output_type": "stream",
     "text": [
      "[1, 2, 3, 4, 5]\n"
     ]
    }
   ],
   "source": [
    "print(list2)"
   ]
  },
  {
   "cell_type": "code",
   "execution_count": null,
   "id": "a4fcc242-4c07-4b30-8c33-731605c38fb7",
   "metadata": {},
   "outputs": [],
   "source": []
  }
 ],
 "metadata": {
  "kernelspec": {
   "display_name": "Python 3 (ipykernel)",
   "language": "python",
   "name": "python3"
  },
  "language_info": {
   "codemirror_mode": {
    "name": "ipython",
    "version": 3
   },
   "file_extension": ".py",
   "mimetype": "text/x-python",
   "name": "python",
   "nbconvert_exporter": "python",
   "pygments_lexer": "ipython3",
   "version": "3.12.9"
  }
 },
 "nbformat": 4,
 "nbformat_minor": 5
}
