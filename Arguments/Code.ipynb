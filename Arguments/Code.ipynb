{
 "cells": [
  {
   "cell_type": "code",
   "execution_count": 11,
   "id": "3e4af107-dfc4-4a10-95a5-5e17dc4e2e95",
   "metadata": {},
   "outputs": [],
   "source": [
    "def greet(name, age):\n",
    "    print(\"Hello\", name,\"you are\",age)"
   ]
  },
  {
   "cell_type": "code",
   "execution_count": 14,
   "id": "8dff5f20-dfd5-46bb-ba31-677a79912558",
   "metadata": {},
   "outputs": [
    {
     "name": "stdout",
     "output_type": "stream",
     "text": [
      "Hello Asim you are 20\n"
     ]
    }
   ],
   "source": [
    "# Postional Args\n",
    "greet('Asim',20)"
   ]
  },
  {
   "cell_type": "code",
   "execution_count": 15,
   "id": "6aae4826-449f-4d6a-994b-33822233e7e7",
   "metadata": {},
   "outputs": [
    {
     "name": "stdout",
     "output_type": "stream",
     "text": [
      "Hello Asim you are 20\n"
     ]
    }
   ],
   "source": [
    "# Keyword Args\n",
    "greet(age=20,name=\"Asim\")"
   ]
  },
  {
   "cell_type": "code",
   "execution_count": 16,
   "id": "7eed3f83-1236-441b-9071-677b77fc59bc",
   "metadata": {},
   "outputs": [],
   "source": [
    "# Default Args\n",
    "def greet(name, age=20):\n",
    "    print(\"Hello\", name,\"you are\",age)"
   ]
  },
  {
   "cell_type": "code",
   "execution_count": 18,
   "id": "22302151-d945-4aef-8f92-94c890375ca2",
   "metadata": {},
   "outputs": [
    {
     "name": "stdout",
     "output_type": "stream",
     "text": [
      "Hello Umer you are 20\n"
     ]
    }
   ],
   "source": [
    "greet(\"Umer\")"
   ]
  },
  {
   "cell_type": "code",
   "execution_count": 19,
   "id": "a76985a2-50ab-4111-babe-d4807eade0d8",
   "metadata": {},
   "outputs": [
    {
     "name": "stdout",
     "output_type": "stream",
     "text": [
      "Hello Saad you are 21\n"
     ]
    }
   ],
   "source": [
    "greet(\"Saad\",21)"
   ]
  },
  {
   "cell_type": "code",
   "execution_count": 20,
   "id": "3a1cdaf6-acaf-4968-aea0-0d7d1e5a827c",
   "metadata": {},
   "outputs": [],
   "source": [
    "def add(*number):\n",
    "    total = sum(number)\n",
    "    print(total)"
   ]
  },
  {
   "cell_type": "code",
   "execution_count": 21,
   "id": "a6ac1107-ebf8-4f62-842e-61f85fa27613",
   "metadata": {},
   "outputs": [
    {
     "name": "stdout",
     "output_type": "stream",
     "text": [
      "100\n"
     ]
    }
   ],
   "source": [
    "add(10,20,30,40)"
   ]
  },
  {
   "cell_type": "code",
   "execution_count": 26,
   "id": "c6e067c6-a088-4889-808d-9d729b6a185f",
   "metadata": {},
   "outputs": [],
   "source": [
    "def print_info(**info):\n",
    "    for key,value in info.items():\n",
    "        print(key,\":\",value)"
   ]
  },
  {
   "cell_type": "code",
   "execution_count": 28,
   "id": "d10b25f1-61e2-4d97-bfce-54aa34d19569",
   "metadata": {},
   "outputs": [
    {
     "name": "stdout",
     "output_type": "stream",
     "text": [
      "name : Ali\n",
      "age : 21\n",
      "gender : Male\n",
      "id : 21\n"
     ]
    }
   ],
   "source": [
    "print_info(name=\"Ali\",age=21,gender=\"Male\",id=21)"
   ]
  },
  {
   "cell_type": "code",
   "execution_count": null,
   "id": "3f9e9056-3b64-466b-9f69-0a6c7096cf5b",
   "metadata": {},
   "outputs": [],
   "source": []
  }
 ],
 "metadata": {
  "kernelspec": {
   "display_name": "Python 3 (ipykernel)",
   "language": "python",
   "name": "python3"
  },
  "language_info": {
   "codemirror_mode": {
    "name": "ipython",
    "version": 3
   },
   "file_extension": ".py",
   "mimetype": "text/x-python",
   "name": "python",
   "nbconvert_exporter": "python",
   "pygments_lexer": "ipython3",
   "version": "3.12.9"
  }
 },
 "nbformat": 4,
 "nbformat_minor": 5
}
