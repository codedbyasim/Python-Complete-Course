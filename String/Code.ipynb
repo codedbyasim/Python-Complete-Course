{
 "cells": [
  {
   "cell_type": "code",
   "execution_count": 15,
   "id": "28f0dc9f-2d8e-453d-aad0-ca019a3e60fc",
   "metadata": {},
   "outputs": [],
   "source": [
    "name = \"Asim\""
   ]
  },
  {
   "cell_type": "code",
   "execution_count": null,
   "id": "3b1ca6ee-d06b-4bbc-9bfa-fb0de77830db",
   "metadata": {},
   "outputs": [],
   "source": [
    "sentence = \"I Love Python\""
   ]
  },
  {
   "cell_type": "code",
   "execution_count": null,
   "id": "67cea0da-b810-4cb0-93c4-7adbb7497016",
   "metadata": {},
   "outputs": [],
   "source": [
    "msg = \"Hello! How are you\""
   ]
  },
  {
   "cell_type": "code",
   "execution_count": 18,
   "id": "d54a3a8c-a8e2-490c-8ba2-8ffac3feffbd",
   "metadata": {},
   "outputs": [
    {
     "name": "stdout",
     "output_type": "stream",
     "text": [
      "o\n"
     ]
    }
   ],
   "source": [
    "# String Index and Slicing \n",
    "text = \"Python\"\n",
    "print (text[4])"
   ]
  },
  {
   "cell_type": "code",
   "execution_count": 19,
   "id": "51430696-fc45-4f52-84aa-34294cca8e8c",
   "metadata": {},
   "outputs": [
    {
     "name": "stdout",
     "output_type": "stream",
     "text": [
      "ytho\n"
     ]
    }
   ],
   "source": [
    "print (text[1:5])"
   ]
  },
  {
   "cell_type": "markdown",
   "id": "528b0a06-6720-4f93-a66e-a2054fa29e4b",
   "metadata": {},
   "source": [
    "# String Method"
   ]
  },
  {
   "cell_type": "code",
   "execution_count": 20,
   "id": "efb651f3-6038-4028-b71d-2169151c9222",
   "metadata": {},
   "outputs": [
    {
     "name": "stdout",
     "output_type": "stream",
     "text": [
      "ASIM\n"
     ]
    }
   ],
   "source": [
    "# Upper()\n",
    "name = \"asim\"\n",
    "print(name.upper())"
   ]
  },
  {
   "cell_type": "code",
   "execution_count": 21,
   "id": "4d4827f1-8623-45a5-9dad-ccc19acabead",
   "metadata": {},
   "outputs": [
    {
     "name": "stdout",
     "output_type": "stream",
     "text": [
      "asim\n"
     ]
    }
   ],
   "source": [
    "# lower()\n",
    "name= \"ASIM\"\n",
    "print(name.lower())"
   ]
  },
  {
   "cell_type": "code",
   "execution_count": 22,
   "id": "532ad2c7-d647-40ae-a5cf-a9304dd396b5",
   "metadata": {
    "scrolled": true
   },
   "outputs": [
    {
     "name": "stdout",
     "output_type": "stream",
     "text": [
      "hello\n"
     ]
    }
   ],
   "source": [
    "# strip()\n",
    "x = \" hello \"\n",
    "print (x.strip())"
   ]
  },
  {
   "cell_type": "code",
   "execution_count": 23,
   "id": "621b4b0f-125d-436f-9cf3-d9f1e7d9d045",
   "metadata": {},
   "outputs": [
    {
     "name": "stdout",
     "output_type": "stream",
     "text": [
      "['apple', 'banana', 'mango']\n"
     ]
    }
   ],
   "source": [
    "# split()\n",
    "Line = \"apple,banana,mango\"\n",
    "print(Line.split(\",\"))"
   ]
  },
  {
   "cell_type": "code",
   "execution_count": 24,
   "id": "5f8593b7-ce75-4829-bead-cfdcf19a7fb6",
   "metadata": {},
   "outputs": [
    {
     "name": "stdout",
     "output_type": "stream",
     "text": [
      "I love Python\n"
     ]
    }
   ],
   "source": [
    "# replace()\n",
    "text= \"I love C++\"\n",
    "print (text.replace(\"C++\", \"Python\"))"
   ]
  },
  {
   "cell_type": "code",
   "execution_count": 25,
   "id": "e0fe72d9-afe1-4f20-b342-c63d424ea798",
   "metadata": {},
   "outputs": [
    {
     "name": "stdout",
     "output_type": "stream",
     "text": [
      "7\n"
     ]
    }
   ],
   "source": [
    "# find()\n",
    "msg = \"Python is fun\"\n",
    "print (msg.find(\"is\"))"
   ]
  },
  {
   "cell_type": "code",
   "execution_count": null,
   "id": "87aabae2-c9e8-477e-a897-fabcf81f78f3",
   "metadata": {},
   "outputs": [],
   "source": []
  }
 ],
 "metadata": {
  "kernelspec": {
   "display_name": "Python 3 (ipykernel)",
   "language": "python",
   "name": "python3"
  },
  "language_info": {
   "codemirror_mode": {
    "name": "ipython",
    "version": 3
   },
   "file_extension": ".py",
   "mimetype": "text/x-python",
   "name": "python",
   "nbconvert_exporter": "python",
   "pygments_lexer": "ipython3",
   "version": "3.12.9"
  }
 },
 "nbformat": 4,
 "nbformat_minor": 5
}
