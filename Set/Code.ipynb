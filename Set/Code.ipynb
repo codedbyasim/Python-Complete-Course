{
 "cells": [
  {
   "cell_type": "code",
   "execution_count": 4,
   "id": "543f7247-90ad-4e1b-8f93-161f6c8af835",
   "metadata": {},
   "outputs": [
    {
     "name": "stdout",
     "output_type": "stream",
     "text": [
      "{1, 2, 3, 4, 5}\n"
     ]
    }
   ],
   "source": [
    "set1 = {1,2,4,3,5}\n",
    "print(set1)"
   ]
  },
  {
   "cell_type": "code",
   "execution_count": 5,
   "id": "7cfa629f-273a-4baf-b1f4-5d05aaa9efef",
   "metadata": {},
   "outputs": [
    {
     "name": "stdout",
     "output_type": "stream",
     "text": [
      "4\n"
     ]
    }
   ],
   "source": [
    "# List\n",
    "list1 = [1,2,3,4,5]\n",
    "print(list1[3])"
   ]
  },
  {
   "cell_type": "code",
   "execution_count": 6,
   "id": "48940a82-aa9c-4fb8-9178-0d3e042e47fc",
   "metadata": {},
   "outputs": [
    {
     "ename": "TypeError",
     "evalue": "'set' object is not subscriptable",
     "output_type": "error",
     "traceback": [
      "\u001b[31m---------------------------------------------------------------------------\u001b[39m",
      "\u001b[31mTypeError\u001b[39m                                 Traceback (most recent call last)",
      "\u001b[36mCell\u001b[39m\u001b[36m \u001b[39m\u001b[32mIn[6]\u001b[39m\u001b[32m, line 3\u001b[39m\n\u001b[32m      1\u001b[39m \u001b[38;5;66;03m#set \u001b[39;00m\n\u001b[32m      2\u001b[39m set1 = {\u001b[32m1\u001b[39m,\u001b[32m2\u001b[39m,\u001b[32m4\u001b[39m,\u001b[32m3\u001b[39m,\u001b[32m5\u001b[39m}\n\u001b[32m----> \u001b[39m\u001b[32m3\u001b[39m \u001b[38;5;28mprint\u001b[39m(\u001b[43mset1\u001b[49m\u001b[43m[\u001b[49m\u001b[32;43m3\u001b[39;49m\u001b[43m]\u001b[49m)\n",
      "\u001b[31mTypeError\u001b[39m: 'set' object is not subscriptable"
     ]
    }
   ],
   "source": [
    "#set \n",
    "set1 = {1,2,4,3,5}\n",
    "print(set1[3])\n"
   ]
  },
  {
   "cell_type": "code",
   "execution_count": 9,
   "id": "e81de041-84a3-4493-bf1d-b905e87dd877",
   "metadata": {},
   "outputs": [
    {
     "name": "stdout",
     "output_type": "stream",
     "text": [
      "{2, 4, 6, 8, 10}\n"
     ]
    }
   ],
   "source": [
    "set2 = {2,4,6,8}\n",
    "set2.add(10)\n",
    "print(set2)"
   ]
  },
  {
   "cell_type": "code",
   "execution_count": 10,
   "id": "a64de4ed-df6f-4a56-bb34-e4a8b2024519",
   "metadata": {},
   "outputs": [
    {
     "name": "stdout",
     "output_type": "stream",
     "text": [
      "{8, 2, 4, 6}\n"
     ]
    }
   ],
   "source": [
    "set3 = {2,2,2,2,4,6,8}\n",
    "print(set3)"
   ]
  },
  {
   "cell_type": "code",
   "execution_count": 11,
   "id": "c7b72a02-8373-4bb6-a971-153d0f97b4bc",
   "metadata": {},
   "outputs": [],
   "source": [
    "set4 = {1,\"Rehan\",78.0}"
   ]
  },
  {
   "cell_type": "code",
   "execution_count": 14,
   "id": "9c2ea89e-c05e-4368-b823-5b71ef26fc89",
   "metadata": {},
   "outputs": [
    {
     "name": "stdout",
     "output_type": "stream",
     "text": [
      "{1, 2, 3, 4, 5, 6, 7}\n"
     ]
    }
   ],
   "source": [
    "set5={1,3,4,5,7}\n",
    "set6={2,4,5,6}\n",
    "# set5.union(set6)\n",
    "print(set5 | set6) # set5 union set6"
   ]
  },
  {
   "cell_type": "code",
   "execution_count": 17,
   "id": "67f6af2c-a081-4935-87b0-19d9b6017078",
   "metadata": {},
   "outputs": [
    {
     "data": {
      "text/plain": [
       "{4, 5}"
      ]
     },
     "execution_count": 17,
     "metadata": {},
     "output_type": "execute_result"
    }
   ],
   "source": [
    "#Intersection\n",
    "set5.intersection(set6)"
   ]
  },
  {
   "cell_type": "code",
   "execution_count": 16,
   "id": "6427e977-d6c6-4905-9370-32f3f26e8db3",
   "metadata": {},
   "outputs": [
    {
     "name": "stdout",
     "output_type": "stream",
     "text": [
      "{4, 5}\n"
     ]
    }
   ],
   "source": [
    "print(set5 & set6)"
   ]
  },
  {
   "cell_type": "code",
   "execution_count": 18,
   "id": "05d03544-e14f-4cc3-b1b0-c2ad06a4d655",
   "metadata": {},
   "outputs": [
    {
     "data": {
      "text/plain": [
       "{1, 3, 7}"
      ]
     },
     "execution_count": 18,
     "metadata": {},
     "output_type": "execute_result"
    }
   ],
   "source": [
    "# Difference\n",
    "set5.difference(set6)"
   ]
  },
  {
   "cell_type": "code",
   "execution_count": 19,
   "id": "ca164a7b-a7c0-4688-929f-7185734959d5",
   "metadata": {},
   "outputs": [
    {
     "name": "stdout",
     "output_type": "stream",
     "text": [
      "{1, 3, 7}\n"
     ]
    }
   ],
   "source": [
    "print(set5-set6)"
   ]
  },
  {
   "cell_type": "code",
   "execution_count": 21,
   "id": "7b48a00a-99d6-460e-ba18-e1a146edb8af",
   "metadata": {},
   "outputs": [
    {
     "name": "stdout",
     "output_type": "stream",
     "text": [
      "4\n"
     ]
    }
   ],
   "source": [
    "# Length\n",
    "print(len(set6))"
   ]
  },
  {
   "cell_type": "code",
   "execution_count": 26,
   "id": "ecd1d6b5-ec08-44c8-9f6c-cf95f9550653",
   "metadata": {},
   "outputs": [
    {
     "name": "stdout",
     "output_type": "stream",
     "text": [
      "False\n"
     ]
    }
   ],
   "source": [
    "#in \n",
    "print(8 in set5)"
   ]
  },
  {
   "cell_type": "code",
   "execution_count": 33,
   "id": "f71ad3a8-2470-4f8a-bf93-2685e4a963ce",
   "metadata": {},
   "outputs": [
    {
     "name": "stdout",
     "output_type": "stream",
     "text": [
      "{1, 3, 4, 5}\n"
     ]
    }
   ],
   "source": [
    "# Remove\n",
    "set5.remove(7)\n",
    "print(set5)"
   ]
  },
  {
   "cell_type": "code",
   "execution_count": 35,
   "id": "a8c1268c-b736-423d-97c3-7793be5f2745",
   "metadata": {},
   "outputs": [
    {
     "name": "stdout",
     "output_type": "stream",
     "text": [
      "{5, 6}\n"
     ]
    }
   ],
   "source": [
    "#Pop\n",
    "set6.pop()\n",
    "print(set6)"
   ]
  },
  {
   "cell_type": "code",
   "execution_count": 32,
   "id": "576aecd7-49a2-4387-bf57-147f20f46664",
   "metadata": {},
   "outputs": [
    {
     "data": {
      "text/plain": [
       "{3, 4, 5, 6}"
      ]
     },
     "execution_count": 32,
     "metadata": {},
     "output_type": "execute_result"
    }
   ],
   "source": [
    "# List to set\n",
    "list1=[3,4,5,6]\n",
    "set(list1)"
   ]
  },
  {
   "cell_type": "code",
   "execution_count": null,
   "id": "d1462db1-4181-49b6-8690-82f611306974",
   "metadata": {},
   "outputs": [],
   "source": []
  }
 ],
 "metadata": {
  "kernelspec": {
   "display_name": "Python 3 (ipykernel)",
   "language": "python",
   "name": "python3"
  },
  "language_info": {
   "codemirror_mode": {
    "name": "ipython",
    "version": 3
   },
   "file_extension": ".py",
   "mimetype": "text/x-python",
   "name": "python",
   "nbconvert_exporter": "python",
   "pygments_lexer": "ipython3",
   "version": "3.12.9"
  }
 },
 "nbformat": 4,
 "nbformat_minor": 5
}
