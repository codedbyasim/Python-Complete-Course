{
 "cells": [
  {
   "cell_type": "code",
   "execution_count": 1,
   "id": "04779ecb-2bba-42cb-82ad-b2247bce2c5b",
   "metadata": {},
   "outputs": [
    {
     "name": "stdout",
     "output_type": "stream",
     "text": [
      "Hello I am Asim\n"
     ]
    }
   ],
   "source": [
    "print(\"Hello I am Asim\")"
   ]
  },
  {
   "cell_type": "markdown",
   "id": "7720e3ba-832e-4bda-b21c-757b5ee4747e",
   "metadata": {},
   "source": [
    "# Single Line Comment"
   ]
  },
  {
   "cell_type": "code",
   "execution_count": 3,
   "id": "e57b5615-5ded-4585-a918-f653af6ad1b8",
   "metadata": {},
   "outputs": [],
   "source": [
    "# This is Single Line Comment"
   ]
  },
  {
   "cell_type": "markdown",
   "id": "df27c05f-9a50-4bad-9227-8b35cdd9eb8f",
   "metadata": {},
   "source": [
    "# Multi_ Line Comment"
   ]
  },
  {
   "cell_type": "code",
   "execution_count": null,
   "id": "7b8e1dc6-482b-4f4b-abcc-b5ae7fc6d486",
   "metadata": {},
   "outputs": [],
   "source": [
    "\"\"\"\n",
    "This is Multi Line Comment\n",
    "This is use to explain code in paragraph\n",
    "\"\"\""
   ]
  }
 ],
 "metadata": {
  "kernelspec": {
   "display_name": "Python 3 (ipykernel)",
   "language": "python",
   "name": "python3"
  },
  "language_info": {
   "codemirror_mode": {
    "name": "ipython",
    "version": 3
   },
   "file_extension": ".py",
   "mimetype": "text/x-python",
   "name": "python",
   "nbconvert_exporter": "python",
   "pygments_lexer": "ipython3",
   "version": "3.13.5"
  }
 },
 "nbformat": 4,
 "nbformat_minor": 5
}
