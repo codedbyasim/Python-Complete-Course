{
 "cells": [
  {
   "cell_type": "code",
   "execution_count": 2,
   "id": "c0e337e9-1f4d-4594-8eb8-f8a8e0e70aa7",
   "metadata": {},
   "outputs": [],
   "source": [
    "def factorial(n):  \n",
    "    if n == 1:     # base case\n",
    "        return 1   \n",
    "    else:         \n",
    "        return n * factorial(n - 1)  # Recursive Case\n"
   ]
  },
  {
   "cell_type": "code",
   "execution_count": 3,
   "id": "723e60ec-5f77-43a8-b208-ec20d7c85fec",
   "metadata": {},
   "outputs": [
    {
     "data": {
      "text/plain": [
       "24"
      ]
     },
     "execution_count": 3,
     "metadata": {},
     "output_type": "execute_result"
    }
   ],
   "source": [
    "factorial(4)"
   ]
  },
  {
   "cell_type": "code",
   "execution_count": 6,
   "id": "5a9ff205-b924-4608-9ccb-a5873a3b6996",
   "metadata": {},
   "outputs": [],
   "source": [
    "def fibonacci(n):\n",
    "    if n == 0:\n",
    "        return 0\n",
    "    elif n == 1:\n",
    "        return 1\n",
    "    else:\n",
    "        return fibonacci(n - 1) + fibonacci(n - 2)  # 0 1 1 2 3 5 ....."
   ]
  },
  {
   "cell_type": "code",
   "execution_count": 7,
   "id": "a23e7869-7ba3-4fa4-a037-723a18f3ef0d",
   "metadata": {},
   "outputs": [
    {
     "data": {
      "text/plain": [
       "5"
      ]
     },
     "execution_count": 7,
     "metadata": {},
     "output_type": "execute_result"
    }
   ],
   "source": [
    "fibonacci(5)"
   ]
  },
  {
   "cell_type": "code",
   "execution_count": null,
   "id": "97032e49-af71-4119-8f4f-9b0d2d43d06c",
   "metadata": {},
   "outputs": [],
   "source": []
  }
 ],
 "metadata": {
  "kernelspec": {
   "display_name": "Python 3 (ipykernel)",
   "language": "python",
   "name": "python3"
  },
  "language_info": {
   "codemirror_mode": {
    "name": "ipython",
    "version": 3
   },
   "file_extension": ".py",
   "mimetype": "text/x-python",
   "name": "python",
   "nbconvert_exporter": "python",
   "pygments_lexer": "ipython3",
   "version": "3.12.9"
  }
 },
 "nbformat": 4,
 "nbformat_minor": 5
}
