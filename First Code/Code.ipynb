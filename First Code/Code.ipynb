{
 "cells": [
  {
   "cell_type": "markdown",
   "id": "60ca99fd-23bb-4004-8e1a-d41b2ac5d68d",
   "metadata": {},
   "source": [
    "# Python Code\n",
    "\n",
    "This is my first video"
   ]
  },
  {
   "cell_type": "code",
   "execution_count": 1,
   "id": "4a00dd77-26dc-45d3-86e5-c66429985687",
   "metadata": {},
   "outputs": [
    {
     "name": "stdout",
     "output_type": "stream",
     "text": [
      "Hello World\n"
     ]
    }
   ],
   "source": [
    "print(\"Hello World\")"
   ]
  },
  {
   "cell_type": "code",
   "execution_count": null,
   "id": "6dde724f-b18d-4b5e-a642-5f248322715e",
   "metadata": {},
   "outputs": [],
   "source": []
  }
 ],
 "metadata": {
  "kernelspec": {
   "display_name": "Python 3 (ipykernel)",
   "language": "python",
   "name": "python3"
  },
  "language_info": {
   "codemirror_mode": {
    "name": "ipython",
    "version": 3
   },
   "file_extension": ".py",
   "mimetype": "text/x-python",
   "name": "python",
   "nbconvert_exporter": "python",
   "pygments_lexer": "ipython3",
   "version": "3.13.5"
  }
 },
 "nbformat": 4,
 "nbformat_minor": 5
}
