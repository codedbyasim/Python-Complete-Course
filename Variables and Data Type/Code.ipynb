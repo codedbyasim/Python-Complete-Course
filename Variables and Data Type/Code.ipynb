{
 "cells": [
  {
   "cell_type": "code",
   "execution_count": null,
   "id": "1e5f2510-e8fc-4d83-ba1a-b76ab990fdee",
   "metadata": {},
   "outputs": [],
   "source": [
    "favFruit = 'Apple'"
   ]
  },
  {
   "cell_type": "code",
   "execution_count": 1,
   "id": "bd061698-0d15-43aa-a2d7-304690e41a96",
   "metadata": {},
   "outputs": [],
   "source": [
    "name = 'Asim'"
   ]
  },
  {
   "cell_type": "code",
   "execution_count": 2,
   "id": "6dc0f117-e1b7-43a3-a62c-f58020f200b0",
   "metadata": {},
   "outputs": [
    {
     "ename": "SyntaxError",
     "evalue": "invalid decimal literal (785872320.py, line 1)",
     "output_type": "error",
     "traceback": [
      "  \u001b[36mCell\u001b[39m\u001b[36m \u001b[39m\u001b[32mIn[2]\u001b[39m\u001b[32m, line 1\u001b[39m\n\u001b[31m    \u001b[39m\u001b[31m1name = 'Asim'\u001b[39m\n    ^\n\u001b[31mSyntaxError\u001b[39m\u001b[31m:\u001b[39m invalid decimal literal\n"
     ]
    }
   ],
   "source": [
    "1name = 'Asim'"
   ]
  },
  {
   "cell_type": "code",
   "execution_count": 3,
   "id": "a33991ce-487c-4c04-a633-fe1386569002",
   "metadata": {},
   "outputs": [],
   "source": [
    "name1 = 'Asim'"
   ]
  },
  {
   "cell_type": "code",
   "execution_count": null,
   "id": "9c2ad612-bc49-40a6-b9b6-3364da1cca45",
   "metadata": {},
   "outputs": [],
   "source": [
    "age =10\n",
    "Age =20"
   ]
  },
  {
   "cell_type": "markdown",
   "id": "6f37608a-c49b-4d92-a751-b37ba69453be",
   "metadata": {},
   "source": [
    "# Data Type"
   ]
  },
  {
   "cell_type": "code",
   "execution_count": 4,
   "id": "231c6a57-1c35-4566-abd3-f4d4301763e4",
   "metadata": {},
   "outputs": [
    {
     "name": "stdout",
     "output_type": "stream",
     "text": [
      "<class 'int'>\n"
     ]
    }
   ],
   "source": [
    "# Int Data Type\n",
    "x=5\n",
    "print(type(x))"
   ]
  },
  {
   "cell_type": "code",
   "execution_count": 5,
   "id": "51bba457-ec67-4be1-8149-2a14fe556793",
   "metadata": {},
   "outputs": [
    {
     "name": "stdout",
     "output_type": "stream",
     "text": [
      "<class 'int'>\n"
     ]
    }
   ],
   "source": [
    "z=2000\n",
    "print(type(z))"
   ]
  },
  {
   "cell_type": "code",
   "execution_count": 6,
   "id": "00ec386c-1156-4b99-8289-1bce0a63d7c2",
   "metadata": {},
   "outputs": [
    {
     "name": "stdout",
     "output_type": "stream",
     "text": [
      "<class 'float'>\n"
     ]
    }
   ],
   "source": [
    "# float Data Type\n",
    "pi=3.14\n",
    "print(type(pi))"
   ]
  },
  {
   "cell_type": "code",
   "execution_count": 8,
   "id": "66337959-1bb4-4ab9-be82-e13ff46210a3",
   "metadata": {},
   "outputs": [
    {
     "name": "stdout",
     "output_type": "stream",
     "text": [
      "<class 'float'>\n"
     ]
    }
   ],
   "source": [
    "b=-0.5\n",
    "print(type(b))"
   ]
  },
  {
   "cell_type": "code",
   "execution_count": 10,
   "id": "2d76b42b-6f49-46cc-8bcc-51aea5e1761e",
   "metadata": {},
   "outputs": [
    {
     "name": "stdout",
     "output_type": "stream",
     "text": [
      "<class 'str'>\n"
     ]
    }
   ],
   "source": [
    "# String Data Type\n",
    "name = \"Asim\"\n",
    "print(type(name))"
   ]
  },
  {
   "cell_type": "code",
   "execution_count": 11,
   "id": "ec81d88a-985f-4655-a233-b92a5e8ad7df",
   "metadata": {},
   "outputs": [
    {
     "name": "stdout",
     "output_type": "stream",
     "text": [
      "<class 'str'>\n"
     ]
    }
   ],
   "source": [
    "msg=\"Hello I Love Python\"\n",
    "print(type(msg))"
   ]
  },
  {
   "cell_type": "code",
   "execution_count": 12,
   "id": "2f402a10-2564-4d9f-8431-3901733ef733",
   "metadata": {},
   "outputs": [
    {
     "name": "stdout",
     "output_type": "stream",
     "text": [
      "<class 'bool'>\n"
     ]
    }
   ],
   "source": [
    "is_passed = True\n",
    "print(type(is_passed))"
   ]
  },
  {
   "cell_type": "code",
   "execution_count": null,
   "id": "f0d0c16c-bae8-442e-a4c4-5e7e320ccda5",
   "metadata": {},
   "outputs": [],
   "source": []
  }
 ],
 "metadata": {
  "kernelspec": {
   "display_name": "Python 3 (ipykernel)",
   "language": "python",
   "name": "python3"
  },
  "language_info": {
   "codemirror_mode": {
    "name": "ipython",
    "version": 3
   },
   "file_extension": ".py",
   "mimetype": "text/x-python",
   "name": "python",
   "nbconvert_exporter": "python",
   "pygments_lexer": "ipython3",
   "version": "3.13.5"
  }
 },
 "nbformat": 4,
 "nbformat_minor": 5
}
