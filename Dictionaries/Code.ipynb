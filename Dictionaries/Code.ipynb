{
 "cells": [
  {
   "cell_type": "code",
   "execution_count": 5,
   "id": "7720afbd-d7cd-499f-a78f-57f9fcd56da7",
   "metadata": {},
   "outputs": [],
   "source": [
    "my_dict = {\n",
    "    \"name\" : \"Asim\",\n",
    "    \"age\" : 21,\n",
    "    \"role\" : \"Student\",\n",
    "}"
   ]
  },
  {
   "cell_type": "code",
   "execution_count": 9,
   "id": "af68c919-a6e3-4508-9df0-92b1efbb5f5a",
   "metadata": {},
   "outputs": [
    {
     "name": "stdout",
     "output_type": "stream",
     "text": [
      "21\n"
     ]
    }
   ],
   "source": [
    "print(my_dict[\"age\"])"
   ]
  },
  {
   "cell_type": "code",
   "execution_count": 10,
   "id": "6993e456-9d0e-4563-bb69-2245c25e3873",
   "metadata": {},
   "outputs": [
    {
     "name": "stdout",
     "output_type": "stream",
     "text": [
      "21\n"
     ]
    }
   ],
   "source": [
    "print(my_dict.get(\"age\"))"
   ]
  },
  {
   "cell_type": "code",
   "execution_count": 11,
   "id": "7b36590f-68fb-4720-b098-f4194f1d68b7",
   "metadata": {},
   "outputs": [],
   "source": [
    "my_dict[\"age\"]=22"
   ]
  },
  {
   "cell_type": "code",
   "execution_count": 12,
   "id": "721724a6-a5a1-4764-8638-a88374650eac",
   "metadata": {},
   "outputs": [
    {
     "name": "stdout",
     "output_type": "stream",
     "text": [
      "22\n"
     ]
    }
   ],
   "source": [
    "print(my_dict[\"age\"])"
   ]
  },
  {
   "cell_type": "code",
   "execution_count": 13,
   "id": "116bb677-86eb-4f04-a9c2-27353b88ffc1",
   "metadata": {},
   "outputs": [],
   "source": [
    "my_dict[\"city\"] = \"islamabad\""
   ]
  },
  {
   "cell_type": "code",
   "execution_count": 14,
   "id": "942e37a6-9cd3-4edd-814f-0d7899355028",
   "metadata": {},
   "outputs": [
    {
     "name": "stdout",
     "output_type": "stream",
     "text": [
      "islamabad\n"
     ]
    }
   ],
   "source": [
    "print(my_dict[\"city\"])"
   ]
  },
  {
   "cell_type": "code",
   "execution_count": 15,
   "id": "58f67250-fb36-4e9f-abcf-fd06620b5dfe",
   "metadata": {},
   "outputs": [
    {
     "data": {
      "text/plain": [
       "'Student'"
      ]
     },
     "execution_count": 15,
     "metadata": {},
     "output_type": "execute_result"
    }
   ],
   "source": [
    "my_dict.pop(\"role\")"
   ]
  },
  {
   "cell_type": "code",
   "execution_count": 16,
   "id": "3932d2bf-3d5b-4893-ba3e-67e09da10950",
   "metadata": {},
   "outputs": [
    {
     "data": {
      "text/plain": [
       "<function dict.clear>"
      ]
     },
     "execution_count": 16,
     "metadata": {},
     "output_type": "execute_result"
    }
   ],
   "source": [
    "my_dict.clear"
   ]
  },
  {
   "cell_type": "code",
   "execution_count": null,
   "id": "134b3bc2-8af6-4d9c-b452-f5679819a413",
   "metadata": {},
   "outputs": [],
   "source": []
  }
 ],
 "metadata": {
  "kernelspec": {
   "display_name": "Python 3 (ipykernel)",
   "language": "python",
   "name": "python3"
  },
  "language_info": {
   "codemirror_mode": {
    "name": "ipython",
    "version": 3
   },
   "file_extension": ".py",
   "mimetype": "text/x-python",
   "name": "python",
   "nbconvert_exporter": "python",
   "pygments_lexer": "ipython3",
   "version": "3.12.9"
  }
 },
 "nbformat": 4,
 "nbformat_minor": 5
}
